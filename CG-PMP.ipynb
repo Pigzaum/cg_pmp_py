{
 "cells": [
  {
   "cell_type": "markdown",
   "metadata": {},
   "source": [
    "## A column generation algorithm for the $p$-median problem (PMP) [1]\n",
    "\n",
    "Given a graph $G = (V,E)$...\n",
    "\n",
    "$$\n",
    "  \\begin{align}\n",
    "    \\min & \\sum\\limits_{i \\in S}\\sum\\limits_{j \\in V} d_{ij} x_{ij} \\\\\n",
    "    \\text{subject to} & \\nonumber \\\\\n",
    "    & \\sum\\limits_{j \\in V} x_{ij} = 1, & \\forall i \\in V \\\\\n",
    "    & \\sum\\limits_{j \\in V} x_{jj} = p, \\\\\n",
    "    & x_{ij} \\leq x_{jj}, & \\forall i, j \\in V \\\\\n",
    "    & x_{ij} \\in \\{0, 1\\}, & \\forall i, j \\in V.\n",
    "  \\end{align}\n",
    "$$\n",
    "\n",
    "..."
   ]
  },
  {
   "cell_type": "code",
   "execution_count": 3,
   "metadata": {},
   "outputs": [],
   "source": [
    "import csv\n",
    "import random\n",
    "import sys\n",
    "\n",
    "import numpy as np\n",
    "import gurobipy as gp\n",
    "from gurobipy import GRB\n",
    "from matplotlib import pyplot as plt"
   ]
  },
  {
   "cell_type": "markdown",
   "metadata": {},
   "source": [
    "#### Read data"
   ]
  },
  {
   "cell_type": "code",
   "execution_count": 40,
   "metadata": {},
   "outputs": [
    {
     "name": "stdout",
     "output_type": "stream",
     "text": [
      "[[ 0  7 10 17 13 29 17 25 20 17 19 23 33 31 24]\n",
      " [ 7  0 15 16 12 28 22 24 15 11 12 16 31 25 17]\n",
      " [10 15  0  9  7 21 15 17 12 16 19 23 25 23 24]\n",
      " [17 16  9  0  8 14  8 10 11 15 20 24 18 16 24]\n",
      " [13 12  7  8  0 18 14 14  9 11 14 18 22 20 19]\n",
      " [29 28 21 14 18  0 16  6  7 22 17 13 10  4 12]\n",
      " [17 22 15  8 14 16  0 12 17 21 26 27 20 18 26]\n",
      " [25 24 17 10 14  6 12  0 11 21 21 17 10  8 16]\n",
      " [20 15 12 11  9  7 17 11  0  6 11  8 15  5  7]\n",
      " [17 11 16 15 11 22 21 21  6  0  7 11 26 20 12]\n",
      " [19 12 19 20 14 17 26 21 11  7  0  6 21 15  7]\n",
      " [23 16 23 24 18 13 27 17  8 11  6  0 17 11  3]\n",
      " [33 31 25 18 22 10 20 10 15 26 21 17  0 12 11]\n",
      " [31 25 23 16 20  4 18  8  5 20 15 11 12  0 10]\n",
      " [24 17 24 24 19 12 26 16  7 12  7  3 11 10  0]]\n"
     ]
    }
   ],
   "source": [
    "# Distance matrix\n",
    "distMtx = np.array([row[1:] for row in list(csv.reader(open(\"./data/scotland_yard_adj_mtx.csv\", \"r\"), delimiter=\",\"))[1:]]).astype(\"int\")\n",
    "\n",
    "print(distMtx)\n",
    "\n",
    "EPS = 0.00001\n",
    "\n",
    "# Number of vertices\n",
    "n = len(distMtx)\n",
    "\n",
    "# number of medians\n",
    "p = 5"
   ]
  },
  {
   "cell_type": "code",
   "execution_count": 41,
   "metadata": {},
   "outputs": [
    {
     "data": {
      "image/png": "[encoded data removed]",
      "text/plain": [
       "<Figure size 640x480 with 1 Axes>"
      ]
     },
     "metadata": {},
     "output_type": "display_data"
    }
   ],
   "source": [
    "# Vertices coordinates (x,y)\n",
    "coords = np.array(list(csv.reader(open(\"./data/coords.csv\", \"r\"), delimiter=\",\"))).astype(\"float\")\n",
    "\n",
    "x1, y1 = coords.T\n",
    "plt.scatter(x1, y1)\n",
    "plt.gca().axes.get_xaxis().set_visible(False)\n",
    "plt.gca().axes.get_yaxis().set_visible(False)\n",
    "plt.show()"
   ]
  },
  {
   "cell_type": "markdown",
   "metadata": {},
   "source": [
    "#### Generate an initial set of columns (clusters)"
   ]
  },
  {
   "cell_type": "code",
   "execution_count": 42,
   "metadata": {},
   "outputs": [
    {
     "name": "stdout",
     "output_type": "stream",
     "text": [
      "[[0 1 0 0 0 0 0 0 1 1 1 1 1 0 0]\n",
      " [0 0 1 0 1 0 1 0 1 1 1 1 1 0 0]\n",
      " [1 0 0 1 0 0 0 1 0 0 0 1 1 0 0]\n",
      " [1 0 1 0 0 0 0 0 0 0 0 0 1 0 0]\n",
      " [0 1 0 1 1 1 1 1 1 1 1 1 1 0 0]\n",
      " [1 1 1 0 0 1 1 0 0 0 1 0 0 0 0]\n",
      " [0 1 0 1 1 0 1 0 1 0 0 0 0 0 1]\n",
      " [0 0 1 1 1 0 0 1 1 0 0 0 0 0 0]\n",
      " [1 0 0 0 1 0 0 1 1 1 1 0 0 0 0]\n",
      " [0 0 1 0 1 0 0 1 0 1 1 1 0 1 0]\n",
      " [0 0 0 0 0 0 0 1 0 1 0 0 1 0 1]\n",
      " [1 1 0 1 1 1 1 1 1 1 0 1 0 0 1]\n",
      " [0 0 1 0 1 1 1 0 1 0 0 1 1 1 1]\n",
      " [1 1 1 1 1 1 0 0 1 1 1 0 1 0 1]\n",
      " [1 1 1 0 0 1 0 0 0 1 1 0 1 1 0]]\n",
      "[50, 92, 95, 68, 86, 55, 84, 57, 100, 81, 69, 83, 115, 23, 56]\n"
     ]
    }
   ],
   "source": [
    "################################################################################\n",
    "# Compute clusters' costs\n",
    "################################################################################\n",
    "def computeClusterCost(cluster):\n",
    "    # find best median\n",
    "    median = -1\n",
    "    minDist = float('inf')\n",
    "    for i in range(len(cluster)):\n",
    "        if (cluster[i] == 1):\n",
    "            dist = 0\n",
    "            for j in range(len(cluster)):\n",
    "                if (cluster[j] == 1):\n",
    "                    dist += distMtx[i][j]\n",
    "            if (dist < minDist):\n",
    "                minDist = dist\n",
    "                median = i\n",
    "    \n",
    "    return median, minDist\n",
    "    \n",
    "# Initial 2 * n random clusters\n",
    "initClusters = [[random.randint(0, 1) for i in range(n)] for j in range(n)]\n",
    "initClustersCosts = [computeClusterCost(cluster)[1] for cluster in initClusters]\n",
    "initClusters = np.array(initClusters)\n",
    "\n",
    "# Print initial clusters\n",
    "print(np.transpose(initClusters))\n",
    "print(initClustersCosts)"
   ]
  },
  {
   "cell_type": "markdown",
   "metadata": {},
   "source": [
    "### Restricted master problem (RMP)\n",
    "\n",
    "$$\n",
    "  \\begin{align}\n",
    "    \\min & \\sum\\limits_{j = 1}^{m} c_j y_j \\\\\n",
    "    \\text{subject to} & \\nonumber \\\\\n",
    "    & \\sum\\limits_{j = 1}^{m} a_{ij} y_j \\geq 1, & \\forall i \\in V, \\\\\n",
    "    & \\sum\\limits_{j = 1}^{m} y_j = p, \\\\\n",
    "    & y_{j} \\in [0, 1], & j = 1, \\dots, m.\n",
    "  \\end{align}\n",
    "$$"
   ]
  },
  {
   "cell_type": "markdown",
   "metadata": {},
   "source": [
    "#### Building our RMP model "
   ]
  },
  {
   "cell_type": "code",
   "execution_count": 43,
   "metadata": {},
   "outputs": [],
   "source": [
    "# Model RMP\n",
    "rmpModel = gp.Model(\"rmp\")\n",
    "\n",
    "# Create decision variables y_j\n",
    "y = rmpModel.addVars(len(initClusters), obj=initClustersCosts, name=\"y\")"
   ]
  },
  {
   "cell_type": "markdown",
   "metadata": {},
   "source": [
    "#### Adding constraints"
   ]
  },
  {
   "cell_type": "code",
   "execution_count": 44,
   "metadata": {},
   "outputs": [],
   "source": [
    "# Covering constraints\n",
    "coverConstrs = rmpModel.addConstrs((gp.quicksum(initClusters[i][j] * y[i]\n",
    "                                                for i in range(len(initClusters))) >= 1 \n",
    "                                                for j in range(n)), name=\"c1_\")\n",
    "\n",
    "# p-medians constraint\n",
    "pConstr = rmpModel.addConstr(gp.quicksum(y[i] for i in range(len(initClusters))) == p, name=\"c2_\")"
   ]
  },
  {
   "cell_type": "markdown",
   "metadata": {},
   "source": [
    "### Subproblem (pricing)\n",
    "\n",
    "All columns $i$ $[a_{i1} \\cdots a_{in} | 1]$ satisfying the following inequality can be added to the RMP:\n",
    "\n",
    "$$\n",
    "\\begin{equation}\n",
    "  \\label{eq:rc}\n",
    "  \\min\\limits_{a_{ij} \\in \\{0, 1\\}}\\left(\\sum\\limits_{j = 1}^n (d_{ij} - \\pi_j)a_{ij}\\right) - \\pi_{n+1} < 0,\n",
    "\\end{equation}\n",
    "$$\n",
    "where coefficients $a{ij}$ are defined by\n",
    "$$\n",
    "\\begin{equation*}\n",
    "    a_{ij} = \n",
    "    \\begin{cases}\n",
    "        1, & \\text{if } d_{ij} - \\pi_j < 0 \\\\\n",
    "        0, & \\text{otherwise}.\n",
    "    \\end{cases}\n",
    "\\end{equation*}\n",
    "$$"
   ]
  },
  {
   "cell_type": "markdown",
   "metadata": {},
   "source": [
    "#### Retrieving the dual costs"
   ]
  },
  {
   "cell_type": "code",
   "execution_count": 45,
   "metadata": {},
   "outputs": [],
   "source": [
    "################################################################################\n",
    "# Retrieve duals from the RMP\n",
    "################################################################################\n",
    "def retrieveDualCosts(coverConstrs, pConstr):\n",
    "    duals = []\n",
    "    for constr in coverConstrs.select():\n",
    "        duals.append(constr.Pi)\n",
    "\n",
    "    duals.append(pConstr.Pi)\n",
    "    \n",
    "    return duals"
   ]
  },
  {
   "cell_type": "markdown",
   "metadata": {},
   "source": [
    "#### Generating columns"
   ]
  },
  {
   "cell_type": "code",
   "execution_count": 46,
   "metadata": {},
   "outputs": [],
   "source": [
    "################################################################################\n",
    "# Function to generate a new column to the RMP\n",
    "################################################################################\n",
    "def generateColumn(i, duals):\n",
    "    rc = 0\n",
    "    cluster = np.zeros(n)\n",
    "    # RC of the n first constraints (cover constraints)\n",
    "    for j in range(n):\n",
    "        if (distMtx[i][j] - duals[j] < 0):\n",
    "            cluster[j] = 1\n",
    "            rc += distMtx[i][j] - duals[j]\n",
    "\n",
    "    # RC of the p-medians constraint\n",
    "    rc -= duals[n]\n",
    "    \n",
    "    # If negative RC, then compute cluster cost\n",
    "    clusterCost = float('inf')\n",
    "    if (rc < 0):\n",
    "        clusterCost = computeClusterCost(cluster)[1]\n",
    "    \n",
    "    return cluster, clusterCost\n",
    "\n",
    "################################################################################\n",
    "# Add a column to the RMP\n",
    "################################################################################\n",
    "def appendNewColumn(cluster, clusterCost):\n",
    "    \n",
    "    # Create a new variable related to the new column\n",
    "    new_y = rmpModel.addVar(obj=clusterCost, name=\"y_\" + str(rmpModel.NumVars))\n",
    "    \n",
    "    # Add the new y's cover constrs coefficient (first |V| constraints)\n",
    "    for i in range(n):\n",
    "        if (cluster[i] == 1):\n",
    "            rmpModel.chgCoeff(coverConstrs[i], new_y, 1)\n",
    "    \n",
    "    # Add the new y's p constraint (|V|th constraint)\n",
    "    rmpModel.chgCoeff(pConstr, new_y, 1)\n",
    "    \n",
    "    return\n",
    "\n",
    "################################################################################\n",
    "# Generates and adds new columns to the RMP\n",
    "################################################################################\n",
    "def addNewColumns(duals):\n",
    "    \n",
    "    nbFound = 0\n",
    "    for i in range(n):\n",
    "        cluster, clusterCost =  generateColumn(i, duals)\n",
    "        # If the column has negative RC, then add it to the RMP\n",
    "        if (clusterCost < float('inf')):\n",
    "            appendNewColumn(cluster, clusterCost)\n",
    "            nbFound += 1\n",
    "\n",
    "    print(\" added \" + str(nbFound) + \" newcolumns\", end='')\n",
    "    return nbFound"
   ]
  },
  {
   "cell_type": "markdown",
   "metadata": {},
   "source": [
    "#### Column generation main routine"
   ]
  },
  {
   "cell_type": "code",
   "execution_count": 47,
   "metadata": {},
   "outputs": [
    {
     "name": "stdout",
     "output_type": "stream",
     "text": [
      "RMP initial ObjVal: 235.00\n",
      "\n",
      "CG(0): added 15 newcolumns, RMP ObjVal: 197.12\n",
      "CG(1): added 15 newcolumns, RMP ObjVal: 160.00\n",
      "CG(2): added 15 newcolumns, RMP ObjVal: 120.43\n",
      "CG(3): added 15 newcolumns, RMP ObjVal: 102.57\n",
      "CG(4): added 15 newcolumns, RMP ObjVal: 93.67\n",
      "CG(5): added 15 newcolumns, RMP ObjVal: 75.50\n",
      "CG(6): added 15 newcolumns, RMP ObjVal: 71.00\n",
      "CG(7): added 6 newcolumns, RMP ObjVal: 69.00\n",
      "CG(8): added 6 newcolumns, RMP ObjVal: 68.00\n",
      "CG(9): added 1 newcolumns, RMP ObjVal: 68.00\n",
      "CG(10): added 2 newcolumns, RMP ObjVal: 67.00\n",
      "CG(11): added 1 newcolumns, RMP ObjVal: 67.00\n",
      "CG(12): added 1 newcolumns, RMP ObjVal: 67.00\n",
      "CG(13): added 3 newcolumns, RMP ObjVal: 67.00\n",
      "CG(14): added 0 newcolumns\n",
      "\n",
      "RMP # of variables: 140\n"
     ]
    }
   ],
   "source": [
    "# Solve the model for the first time\n",
    "rmpModel.Params.OutputFlag = 0\n",
    "rmpModel.optimize()\n",
    "print(\"RMP initial ObjVal: %.2f\\n\" % rmpModel.ObjVal)\n",
    "\n",
    "duals = retrieveDualCosts(coverConstrs, pConstr)\n",
    "\n",
    "i = 0;\n",
    "maxIter = 1000\n",
    "print(f'CG({i}):', end='')\n",
    "while (i < maxIter and addNewColumns(duals)):\n",
    "    rmpModel.optimize()\n",
    "    duals = retrieveDualCosts(coverConstrs, pConstr)\n",
    "    i += 1\n",
    "    print(\", RMP ObjVal: %.2f\" % rmpModel.ObjVal)\n",
    "    print(f'CG({i}):', end='')\n",
    "    \n",
    "print(f'\\n\\nRMP # of variables: {rmpModel.NumVars}')"
   ]
  },
  {
   "cell_type": "markdown",
   "metadata": {},
   "source": [
    "#### Imposing integrality on y variables"
   ]
  },
  {
   "cell_type": "code",
   "execution_count": 48,
   "metadata": {},
   "outputs": [
    {
     "name": "stdout",
     "output_type": "stream",
     "text": [
      "Set parameter OutputFlag to value 1\n"
     ]
    }
   ],
   "source": [
    "rmpModel.Params.OutputFlag = 1\n",
    "\n",
    "# Change y vars to binary to solve the original PMP\n",
    "for var in rmpModel.getVars():\n",
    "    var.VType = GRB.BINARY\n",
    "    \n",
    "# Change the sense of cover constraints to partitioning constraints (<= to =)\n",
    "for constr in rmpModel.getConstrs():\n",
    "    constr.Sense = '='"
   ]
  },
  {
   "cell_type": "markdown",
   "metadata": {},
   "source": [
    "### Solving the set partitioning PMP\n",
    "\n",
    "$$\n",
    "  \\begin{align}\n",
    "    \\min & \\sum\\limits_{j = 1}^{2^n} c_j y_j \\\\\n",
    "    \\text{subject to} & \\nonumber \\\\\n",
    "    & \\sum\\limits_{j = 1}^{2^n} a_{ij} y_j = 1, & \\forall i \\in V, \\\\\n",
    "    & \\sum\\limits_{j = 1}^{2^n} y_j = p, \\\\\n",
    "    & y_{j} \\in \\{0, 1\\}, & j = 1, \\dots, 2^n.\n",
    "  \\end{align}\n",
    "$$"
   ]
  },
  {
   "cell_type": "code",
   "execution_count": 49,
   "metadata": {},
   "outputs": [
    {
     "name": "stdout",
     "output_type": "stream",
     "text": [
      "Gurobi Optimizer version 9.5.1 build v9.5.1rc2 (linux64)\n",
      "Thread count: 4 physical cores, 8 logical processors, using up to 8 threads\n",
      "Optimize a model with 16 rows, 140 columns and 644 nonzeros\n",
      "Model fingerprint: 0xbcfa6acb\n",
      "Variable types: 0 continuous, 140 integer (140 binary)\n",
      "Coefficient statistics:\n",
      "  Matrix range     [1e+00, 1e+00]\n",
      "  Objective range  [3e+00, 1e+02]\n",
      "  Bounds range     [0e+00, 0e+00]\n",
      "  RHS range        [1e+00, 5e+00]\n",
      "Presolve removed 0 rows and 42 columns\n",
      "Presolve time: 0.01s\n",
      "Presolved: 16 rows, 98 columns, 394 nonzeros\n",
      "Variable types: 0 continuous, 98 integer (98 binary)\n",
      "\n",
      "Root relaxation: objective 6.700000e+01, 24 iterations, 0.00 seconds (0.00 work units)\n",
      "\n",
      "    Nodes    |    Current Node    |     Objective Bounds      |     Work\n",
      " Expl Unexpl |  Obj  Depth IntInf | Incumbent    BestBd   Gap | It/Node Time\n",
      "\n",
      "*    0     0               0      67.0000000   67.00000  0.00%     -    0s\n",
      "\n",
      "Explored 1 nodes (24 simplex iterations) in 0.03 seconds (0.00 work units)\n",
      "Thread count was 8 (of 8 available processors)\n",
      "\n",
      "Solution count 1: 67 \n",
      "\n",
      "Optimal solution found (tolerance 1.00e-04)\n",
      "Best objective 6.700000000000e+01, best bound 6.700000000000e+01, gap 0.0000%\n"
     ]
    }
   ],
   "source": [
    "# Solve it again, but now as an integer linear program (ILP)\n",
    "rmpModel.optimize()"
   ]
  },
  {
   "cell_type": "code",
   "execution_count": 50,
   "metadata": {},
   "outputs": [
    {
     "data": {
      "image/png": "[encoded data removed]",
      "text/plain": [
       "<Figure size 640x480 with 1 Axes>"
      ]
     },
     "metadata": {},
     "output_type": "display_data"
    }
   ],
   "source": [
    "# Dirty code to print the ILP solution\n",
    "for y in rmpModel.getVars():\n",
    "    if y.X > EPS: \n",
    "        cluster = np.zeros(n)\n",
    "        for i in range(n):\n",
    "            if (rmpModel.getCoeff(coverConstrs[i], y)):\n",
    "                cluster[i] = 1\n",
    "        median = computeClusterCost(cluster)[0]\n",
    "        for i in range(n):\n",
    "            if (rmpModel.getCoeff(coverConstrs[i], y) == 1):\n",
    "                plt.plot([x1[median], x1[i]], [y1[median], y1[i]], color='black', marker='o')\n",
    "            \n",
    "plt.show()"
   ]
  }
 ],
 "metadata": {
  "kernelspec": {
   "display_name": "Python 3",
   "language": "python",
   "name": "python3"
  },
  "language_info": {
   "codemirror_mode": {
    "name": "ipython",
    "version": 3
   },
   "file_extension": ".py",
   "mimetype": "text/x-python",
   "name": "python",
   "nbconvert_exporter": "python",
   "pygments_lexer": "ipython3",
   "version": "3.8.10"
  }
 },
 "nbformat": 4,
 "nbformat_minor": 4
}
